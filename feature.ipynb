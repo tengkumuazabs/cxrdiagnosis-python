{
  "nbformat": 4,
  "nbformat_minor": 0,
  "metadata": {
    "colab": {
      "provenance": [],
      "authorship_tag": "ABX9TyMTKiX3TefcALAMvBFbO3a1",
      "include_colab_link": true
    },
    "kernelspec": {
      "name": "python3",
      "display_name": "Python 3"
    },
    "language_info": {
      "name": "python"
    }
  },
  "cells": [
    {
      "cell_type": "markdown",
      "metadata": {
        "id": "view-in-github",
        "colab_type": "text"
      },
      "source": [
        "<a href=\"https://colab.research.google.com/github/tengkumuazabs/cxrdiagnosis-python/blob/develop/feature.ipynb\" target=\"_parent\"><img src=\"https://colab.research.google.com/assets/colab-badge.svg\" alt=\"Open In Colab\"/></a>"
      ]
    },
    {
      "cell_type": "code",
      "execution_count": null,
      "metadata": {
        "id": "zV0N1JyiPV0R"
      },
      "outputs": [],
      "source": [
        "import numpy as np \n",
        "import matplotlib.pyplot as plt\n",
        "import glob\n",
        "import cv2\n",
        "import pandas as pd\n",
        "import os\n",
        "import shutil\n",
        "# from keras.models import Model, Sequential\n",
        "# from keras.layers import Dense, Flatten, Conv2D, MaxPooling2D\n",
        "# from tensorflow.keras.layers import BatchNormalization\n",
        "# import os\n",
        "import seaborn as sns\n",
        "from keras.applications.vgg16 import VGG16\n",
        "from tensorflow.keras.applications.inception_v3 import InceptionV3\n",
        "# from PIL import Image\n",
        "# import shutil\n",
        "# import split_folder as sp\n",
        "from sklearn import svm\n",
        "from sklearn.metrics import confusion_matrix, ConfusionMatrixDisplay\n",
        "# from sklearn.ensemble import RandomForestClassifier\n",
        "from sklearn import preprocessing\n",
        "# from keras.utils import to_categorical\n",
        "# import scikitplot as skplt\n",
        "import matplotlib.pyplot as plt\n",
        "from sklearn.metrics import roc_curve, roc_auc_score, accuracy_score, precision_score, f1_score, recall_score, classification_report\n",
        "# from keras.models import Sequential\n",
        "# from keras.layers import Dense, Flatten, BatchNormalization, Dropout"
      ]
    },
    {
      "cell_type": "code",
      "source": [
        "SIZE = 224\n",
        "# inception_model = InceptionV3(weights='imagenet', include_top=False, input_shape=(SIZE, SIZE, 3))\n",
        "model = VGG16(weights='imagenet', include_top=False, input_shape=(SIZE, SIZE, 3))"
      ],
      "metadata": {
        "id": "EzQEmOerPWY7",
        "colab": {
          "base_uri": "https://localhost:8080/"
        },
        "outputId": "c8c83cfa-67a4-45f7-ff5b-359a0fa75180"
      },
      "execution_count": null,
      "outputs": [
        {
          "output_type": "stream",
          "name": "stdout",
          "text": [
            "Downloading data from https://storage.googleapis.com/tensorflow/keras-applications/vgg16/vgg16_weights_tf_dim_ordering_tf_kernels_notop.h5\n",
            "58889256/58889256 [==============================] - 1s 0us/step\n"
          ]
        }
      ]
    },
    {
      "cell_type": "code",
      "source": [
        "# model.summary()"
      ],
      "metadata": {
        "id": "QknDfCfiP3-u"
      },
      "execution_count": null,
      "outputs": []
    },
    {
      "cell_type": "code",
      "source": [
        "#Understand the filters in the model \n",
        "#Let us pick the first hidden layer as the layer of interest.\n",
        "layer = model.layers #Conv layers at 1, 3, 6, 8, 11, 13, 15\n",
        "filters, biases = model.layers[1].get_weights()\n",
        "print(layer[1].name, filters.shape)"
      ],
      "metadata": {
        "colab": {
          "base_uri": "https://localhost:8080/"
        },
        "id": "96xHtFjePoTe",
        "outputId": "4e1bb850-c51a-416a-aef5-6c0042e11b7d"
      },
      "execution_count": null,
      "outputs": [
        {
          "output_type": "stream",
          "name": "stdout",
          "text": [
            "block1_conv1 (3, 3, 3, 64)\n"
          ]
        }
      ]
    },
    {
      "cell_type": "code",
      "source": [
        "# plot filters\n",
        "\n",
        "fig1=plt.figure(figsize=(8, 12))\n",
        "columns = 8\n",
        "rows = 8\n",
        "n_filters = columns * rows\n",
        "for i in range(1, n_filters +1):\n",
        "    f = filters[:, :, :, i-1]\n",
        "    fig1 =plt.subplot(rows, columns, i)\n",
        "    fig1.set_xticks([])  #Turn off axis\n",
        "    fig1.set_yticks([])\n",
        "    plt.imshow(f[:, :, 0], cmap='gray') #Show only the filters from 0th channel (R)\n",
        "    #ix += 1\n",
        "plt.show()    "
      ],
      "metadata": {
        "colab": {
          "base_uri": "https://localhost:8080/",
          "height": 665
        },
        "id": "KxUsK691Qqj_",
        "outputId": "efb9ad50-7e39-4554-ccf4-6cb9f90e342d"
      },
      "execution_count": null,
      "outputs": [
        {
          "output_type": "display_data",
          "data": {
            "text/plain": [
              "<Figure size 576x864 with 64 Axes>"
            ],
            "image/png": "[encoded data removed]"
          },
          "metadata": {}
        }
      ]
    },
    {
      "cell_type": "code",
      "source": [
        "sns.heatmap(f[:, :, 0], annot=True, cmap='gray')"
      ],
      "metadata": {
        "colab": {
          "base_uri": "https://localhost:8080/",
          "height": 283
        },
        "id": "A8BQ8s16vROH",
        "outputId": "4863559c-0cab-40bc-9e19-db170ff3a762"
      },
      "execution_count": null,
      "outputs": [
        {
          "output_type": "execute_result",
          "data": {
            "text/plain": [
              "<matplotlib.axes._subplots.AxesSubplot at 0x7fa52dacddc0>"
            ]
          },
          "metadata": {},
          "execution_count": 6
        },
        {
          "output_type": "display_data",
          "data": {
            "text/plain": [
              "<Figure size 432x288 with 2 Axes>"
            ],
            "image/png": "[encoded data removed]"
          },
          "metadata": {
            "needs_background": "light"
          }
        }
      ]
    },
    {
      "cell_type": "code",
      "source": [
        "# ===================="
      ],
      "metadata": {
        "id": "5aZzWYd8vk3K"
      },
      "execution_count": null,
      "outputs": []
    },
    {
      "cell_type": "code",
      "source": [
        "# ======================"
      ],
      "metadata": {
        "id": "fji9NqbRyFxS"
      },
      "execution_count": null,
      "outputs": []
    },
    {
      "cell_type": "code",
      "source": [
        "SIZE = 299\n",
        "model_inception = InceptionV3(weights='imagenet', include_top=False, input_shape=(SIZE, SIZE, 3))"
      ],
      "metadata": {
        "id": "HdG40jpVyGbu",
        "colab": {
          "base_uri": "https://localhost:8080/"
        },
        "outputId": "68870655-e2f9-45fb-b8a5-d788659200b9"
      },
      "execution_count": null,
      "outputs": [
        {
          "output_type": "stream",
          "name": "stdout",
          "text": [
            "Downloading data from https://storage.googleapis.com/tensorflow/keras-applications/inception_v3/inception_v3_weights_tf_dim_ordering_tf_kernels_notop.h5\n",
            "87910968/87910968 [==============================] - 0s 0us/step\n"
          ]
        }
      ]
    },
    {
      "cell_type": "code",
      "source": [
        "model_inception.summary()"
      ],
      "metadata": {
        "id": "GyuQXSvD-hYQ"
      },
      "execution_count": null,
      "outputs": []
    },
    {
      "cell_type": "code",
      "source": [
        "#Understand the filters in the model \n",
        "#Let us pick the first hidden layer as the layer of interest.\n",
        "layer = model_inception.layers\n",
        "filters = model_inception.layers[1].get_weights()\n",
        "filters=np.array(filters[0])\n",
        "print(layer[1].name, filters.shape)"
      ],
      "metadata": {
        "colab": {
          "base_uri": "https://localhost:8080/"
        },
        "id": "9L_ceVTq2KC4",
        "outputId": "2df11c6a-0ac4-48cd-dae5-603ed1c4e2c3"
      },
      "execution_count": null,
      "outputs": [
        {
          "output_type": "stream",
          "name": "stdout",
          "text": [
            "conv2d (3, 3, 3, 32)\n"
          ]
        }
      ]
    },
    {
      "cell_type": "code",
      "source": [
        "filters"
      ],
      "metadata": {
        "colab": {
          "base_uri": "https://localhost:8080/"
        },
        "id": "dlGNp9udPVCO",
        "outputId": "8a256844-2c4b-46ca-e405-3fe00806b93c"
      },
      "execution_count": null,
      "outputs": [
        {
          "output_type": "execute_result",
          "data": {
            "text/plain": [
              "array([[[[-4.59105551e-01, -4.14526574e-02, -3.62577499e-03,\n",
              "          -9.87672508e-02, -3.37070860e-02,  4.79929037e-02,\n",
              "           2.32542142e-01,  3.23927671e-01,  5.90160079e-02,\n",
              "           9.47738215e-02,  4.24996056e-02,  1.26620471e-01,\n",
              "           1.33215979e-01,  1.22741833e-01, -7.92686343e-02,\n",
              "           2.08227970e-02, -1.99647829e-01, -3.02687973e-01,\n",
              "          -2.10659921e-01, -3.52898419e-01, -5.58023095e-01,\n",
              "           3.20223093e-01,  4.53596050e-03, -3.09266411e-02,\n",
              "          -6.86957911e-02,  2.00968519e-01,  1.14542745e-01,\n",
              "           2.40372881e-01,  1.52943470e-02,  5.96231259e-02,\n",
              "          -5.85714653e-02,  8.78173351e-01],\n",
              "         [ 3.16376328e-01, -4.78494260e-03, -6.84681814e-03,\n",
              "           7.44503662e-02, -1.97458476e-01,  5.20143658e-02,\n",
              "          -1.24460436e-01,  3.36123914e-01,  3.01678218e-02,\n",
              "          -1.26477107e-01, -1.05597451e-01, -5.31241074e-02,\n",
              "          -2.43102223e-01,  1.66047230e-01, -1.03186309e-01,\n",
              "          -6.55613691e-02,  2.60930099e-02,  1.16658449e-01,\n",
              "          -1.60814777e-01, -3.49688202e-01, -7.33594477e-01,\n",
              "           3.11471581e-01,  1.33009152e-02, -6.08066330e-03,\n",
              "          -7.95056075e-02, -3.26563753e-02,  4.55954410e-02,\n",
              "           2.36060649e-01,  5.62554598e-03,  6.51128590e-02,\n",
              "           1.04702845e-01, -1.66790619e-01],\n",
              "         [ 2.21712515e-01, -2.57035112e-03, -1.59502089e-01,\n",
              "          -2.51942836e-02,  2.43941799e-01,  2.55493037e-02,\n",
              "          -1.28795937e-01,  1.37704432e-01, -7.87055641e-02,\n",
              "           4.10648547e-02,  2.80119162e-02, -1.07536890e-01,\n",
              "           4.59116288e-02,  1.27241179e-01,  1.93367332e-01,\n",
              "           1.53290546e-02, -2.00637266e-01,  2.24361420e-01,\n",
              "          -1.29131392e-01, -9.51487944e-02, -3.70009631e-01,\n",
              "           2.87032187e-01, -8.66315290e-02,  9.28180665e-02,\n",
              "          -2.01310944e-02, -2.72079617e-01,  4.39127162e-02,\n",
              "          -7.55708218e-02, -9.42188203e-02, -5.93317747e-02,\n",
              "           3.96243595e-02, -6.19118512e-01]],\n",
              "\n",
              "        [[-7.51269162e-01,  3.48210037e-02, -7.98967332e-02,\n",
              "          -3.96422565e-01, -2.64644027e-01,  1.40673056e-01,\n",
              "          -5.92360973e-01,  5.70569396e-01, -5.61487041e-02,\n",
              "           1.59614719e-02,  1.91302866e-01, -3.66766155e-02,\n",
              "           3.75389487e-01,  3.75071824e-01, -1.85502082e-01,\n",
              "          -3.09550047e-01,  1.60525702e-02, -3.55118126e-01,\n",
              "          -2.88537711e-01, -9.48302820e-02,  1.53166577e-01,\n",
              "          -1.93490461e-01,  6.42974153e-02, -3.48205008e-02,\n",
              "          -1.65828705e-01,  3.90365124e-01,  1.26349302e-02,\n",
              "           1.53028890e-01,  1.33174499e-02,  7.45554641e-02,\n",
              "          -1.92786697e-02,  1.75148576e-01],\n",
              "         [ 3.55816573e-01, -3.14642340e-02,  1.28206044e-01,\n",
              "          -1.28941059e-01, -5.46135902e-02,  2.78681666e-01,\n",
              "           4.55734700e-01,  5.38976073e-01,  8.31630006e-02,\n",
              "          -2.80416071e-01, -1.48861542e-01,  1.21901974e-01,\n",
              "          -3.83083135e-01,  3.75166088e-01, -2.08227515e-01,\n",
              "          -1.29338771e-01,  3.50710601e-01,  2.24829260e-02,\n",
              "          -2.44429782e-01, -6.89486489e-02,  1.19071797e-01,\n",
              "          -9.07485932e-02,  6.37152195e-02, -6.23455318e-03,\n",
              "          -1.83708176e-01,  3.16314101e-02, -3.26027162e-02,\n",
              "           1.46927759e-01,  5.60333719e-03,  1.00134099e-02,\n",
              "           1.34500518e-01, -9.49547514e-02],\n",
              "         [ 5.11001050e-01,  8.04265440e-02,  9.84589979e-02,\n",
              "          -9.28192511e-02,  4.39067900e-01,  2.40116969e-01,\n",
              "           1.48012802e-01,  2.06206009e-01, -3.86097394e-02,\n",
              "           2.34553993e-01,  2.01258138e-02, -1.33050963e-01,\n",
              "           1.42953947e-01,  1.52850181e-01,  3.48664939e-01,\n",
              "          -2.21172974e-01, -1.68190915e-02,  2.35393152e-01,\n",
              "          -1.90555871e-01, -3.70343146e-03,  1.04658179e-01,\n",
              "          -3.13451141e-02,  8.90399516e-02,  4.66634482e-02,\n",
              "          -7.73299858e-02, -3.79417181e-01, -4.08192798e-02,\n",
              "          -4.52801585e-01, -7.00017810e-02, -9.71016958e-02,\n",
              "           2.95030206e-01, -1.05120182e-01]],\n",
              "\n",
              "        [[-7.53074363e-02, -2.06811968e-02,  8.94671679e-02,\n",
              "           1.55051500e-02, -7.04864040e-02, -9.22501162e-02,\n",
              "          -7.11003184e-01,  2.50318170e-01,  1.14692561e-01,\n",
              "           9.74843428e-02,  8.26721266e-02, -6.69363514e-02,\n",
              "           1.83123484e-01, -2.55230129e-01, -1.04877211e-01,\n",
              "           8.40508714e-02, -1.46275967e-01, -3.01192343e-01,\n",
              "          -1.65155828e-01, -1.95000917e-02,  2.92843819e-01,\n",
              "          -2.51484841e-01,  8.99823979e-02, -5.07941581e-02,\n",
              "          -1.54783919e-01,  3.13909143e-01,  4.67576571e-02,\n",
              "           9.33493748e-02, -8.23359098e-03,  1.06634155e-01,\n",
              "          -3.46046425e-02, -3.19266319e-01],\n",
              "         [ 1.12931758e-01, -1.48703828e-02,  6.78641945e-02,\n",
              "           1.50543079e-01, -1.13253519e-01,  8.58298391e-02,\n",
              "           5.01982749e-01,  1.83798179e-01, -8.68951753e-02,\n",
              "          -1.50101945e-01, -1.27019748e-01,  2.00995386e-01,\n",
              "          -1.94146752e-01, -3.33526462e-01, -3.95116657e-02,\n",
              "          -3.76722105e-02,  8.60670023e-03, -6.98672514e-03,\n",
              "          -1.00546576e-01, -2.62953830e-03,  4.65099514e-01,\n",
              "          -2.14414850e-01,  7.64784589e-02, -5.08379657e-03,\n",
              "          -1.73704341e-01, -8.37199613e-02, -4.17399816e-02,\n",
              "           1.73426822e-01,  2.95095835e-02,  6.04446344e-02,\n",
              "           9.06928107e-02, -1.14271380e-02],\n",
              "         [-7.29609355e-02,  3.49589698e-02, -1.79962412e-01,\n",
              "           1.22079901e-01,  1.76442862e-01,  1.16373926e-01,\n",
              "           2.30988681e-01,  3.72244976e-02, -3.20714563e-02,\n",
              "           5.88952675e-02, -3.42379771e-02, -9.31739733e-02,\n",
              "          -1.16255339e-02, -1.73515990e-01,  1.21214695e-01,\n",
              "           1.40511736e-01, -2.19165638e-01,  1.94948763e-01,\n",
              "          -9.93858278e-02, -1.37543278e-02,  2.88932323e-01,\n",
              "          -2.54598916e-01,  8.18339437e-02,  1.16559630e-02,\n",
              "          -9.36568975e-02, -2.18580514e-01, -1.22934952e-01,\n",
              "           5.50779048e-04, -7.01512843e-02, -3.58531252e-02,\n",
              "           1.04194552e-01,  2.88285494e-01]]],\n",
              "\n",
              "\n",
              "       [[[-3.09671372e-01,  2.32201777e-02, -1.96793169e-01,\n",
              "          -2.20510378e-01, -2.42669106e-01,  4.67890911e-02,\n",
              "           2.48323604e-01, -1.66484311e-01, -3.84278834e-01,\n",
              "           3.80987860e-02, -4.54362422e-01, -2.37979427e-01,\n",
              "           3.29888821e-01,  3.41433752e-03, -8.28291476e-02,\n",
              "           3.99100259e-02, -2.70952880e-01, -3.21505904e-01,\n",
              "           1.00008205e-01,  5.77513278e-01, -4.18643892e-01,\n",
              "           2.54249245e-01,  5.62861599e-02, -8.69987980e-02,\n",
              "          -6.83216453e-02,  3.79922688e-01,  1.76942736e-01,\n",
              "           2.11315155e-01,  6.92530796e-02, -1.69373155e-02,\n",
              "          -2.29212847e-02,  4.36451226e-01],\n",
              "         [ 1.85230255e-01,  1.21470345e-02,  1.15113854e-01,\n",
              "           9.49417576e-02, -1.77649230e-01,  1.30133405e-01,\n",
              "          -1.27454177e-01, -1.52578086e-01,  4.32037741e-01,\n",
              "          -2.64863998e-01, -3.03227827e-02,  2.39914760e-01,\n",
              "          -4.59962994e-01,  3.57799567e-02, -1.57588765e-01,\n",
              "          -5.69069721e-02,  4.98269275e-02,  7.87699968e-02,\n",
              "           9.30080563e-02,  6.36520803e-01, -5.54792702e-01,\n",
              "           1.93763480e-01,  1.40769668e-02, -7.37030208e-02,\n",
              "          -7.34341666e-02,  4.33748625e-02,  1.17953978e-01,\n",
              "           3.15200478e-01,  4.22935151e-02, -3.14331055e-03,\n",
              "           6.22104593e-02, -8.47976282e-02],\n",
              "         [ 1.60247013e-01,  5.20873033e-02,  1.04668580e-01,\n",
              "           6.11611344e-02,  3.69409770e-01,  4.96275760e-02,\n",
              "          -1.12423740e-01, -5.49178086e-02, -9.42278504e-02,\n",
              "           2.54325986e-01, -4.13073972e-02,  6.60333559e-02,\n",
              "           1.11361548e-01,  3.90531085e-02,  2.56812125e-01,\n",
              "           3.07825580e-02, -3.65221053e-01,  2.65386939e-01,\n",
              "           8.95922631e-02,  2.37859935e-01, -2.19269782e-01,\n",
              "           1.70323789e-01, -2.40444541e-02, -6.42235950e-02,\n",
              "          -5.73639609e-02, -3.37285519e-01,  2.47313276e-01,\n",
              "          -2.12214038e-01, -1.53777460e-02, -1.04467109e-01,\n",
              "          -1.30376607e-01, -2.94386506e-01]],\n",
              "\n",
              "        [[-5.50010741e-01,  1.43946797e-01, -5.10051787e-01,\n",
              "          -4.68869209e-01, -5.08882999e-01, -1.71292290e-01,\n",
              "          -1.13478772e-01, -5.71783721e-01, -3.67561132e-01,\n",
              "          -1.21380776e-01, -1.13262475e-01, -6.48380578e-01,\n",
              "           6.27203345e-01,  6.94373548e-01, -1.95106730e-01,\n",
              "          -2.64451325e-01, -2.00940773e-01, -4.21104223e-01,\n",
              "           3.08264852e-01,  8.29216838e-03,  3.95820379e-01,\n",
              "          -3.35089803e-01,  9.52083990e-02,  2.36721095e-02,\n",
              "          -1.13931984e-01,  6.35013640e-01,  6.06294833e-02,\n",
              "           4.41855192e-01, -4.77887504e-02, -1.98351786e-01,\n",
              "          -1.94868110e-02, -4.85313162e-02],\n",
              "         [ 1.90947160e-01,  4.33590598e-02,  4.24152821e-01,\n",
              "          -3.69650614e-03,  5.56460768e-03,  6.86372221e-02,\n",
              "           1.50262251e-01, -5.79318464e-01,  3.83384645e-01,\n",
              "          -3.96539152e-01, -2.05095951e-02,  5.08662283e-01,\n",
              "          -6.81817293e-01,  6.39929175e-01, -2.63347208e-01,\n",
              "          -1.64095819e-01,  1.31546974e-01,  7.51749100e-03,\n",
              "           2.77786314e-01,  1.27530554e-02,  4.76832241e-01,\n",
              "          -2.03199059e-01,  3.82504165e-02,  4.77481186e-02,\n",
              "          -1.21142201e-01,  1.24962404e-01,  1.94157716e-02,\n",
              "           4.35586035e-01, -5.81540316e-02, -2.21681744e-01,\n",
              "           9.22068208e-02, -1.54824508e-02],\n",
              "         [ 3.69268328e-01,  1.97107822e-01,  6.14967883e-01,\n",
              "           1.44848540e-01,  6.79024100e-01,  8.71696472e-02,\n",
              "          -2.52940003e-02, -2.09089696e-01, -7.00887442e-02,\n",
              "           5.60278237e-01,  5.41306697e-02,  1.50142446e-01,\n",
              "           1.22068822e-01,  2.51376867e-01,  4.28028524e-01,\n",
              "          -1.99277475e-01, -3.64807039e-01,  3.26477617e-01,\n",
              "           2.77842641e-01,  5.99431852e-03,  2.13500857e-01,\n",
              "          -7.79086575e-02,  1.37640312e-01,  1.45664038e-02,\n",
              "          -7.50476941e-02, -6.03472531e-01,  9.13274661e-02,\n",
              "          -5.51822066e-01, -4.93564568e-02, -2.41208330e-01,\n",
              "           1.42374914e-02,  7.20060058e-03]],\n",
              "\n",
              "        [[-6.13205209e-02,  1.67170428e-02, -2.21705899e-01,\n",
              "          -4.95959334e-02, -2.37929299e-01, -5.35335004e-01,\n",
              "          -2.11950779e-01, -1.99938426e-03,  8.72384310e-02,\n",
              "          -7.92514980e-02,  3.13561596e-02, -5.00510335e-01,\n",
              "           3.16275716e-01, -1.79683864e-01, -7.73780569e-02,\n",
              "           1.09483354e-01, -3.62387270e-01, -3.29678863e-01,\n",
              "           9.10189226e-02, -6.27809390e-02,  3.97496015e-01,\n",
              "          -2.75063694e-01,  9.81727690e-02, -9.63142794e-03,\n",
              "          -1.43188626e-01,  3.90550435e-01,  6.00194223e-02,\n",
              "           3.73257279e-01,  7.54999146e-02, -2.31349897e-02,\n",
              "          -7.19401911e-02, -3.81740510e-01],\n",
              "         [ 4.15264070e-02,  1.05704041e-02,  2.22087592e-01,\n",
              "           2.28352740e-01, -8.31382945e-02, -2.79769450e-01,\n",
              "           1.47461593e-01, -9.23275203e-03, -6.49965033e-02,\n",
              "          -2.37697676e-01, -1.14193618e-01,  4.09631103e-01,\n",
              "          -4.53702658e-01, -2.49112755e-01, -8.12669992e-02,\n",
              "          -3.03775985e-02, -1.21517688e-01,  3.44517045e-02,\n",
              "           8.81673172e-02, -8.83365348e-02,  5.15151560e-01,\n",
              "          -2.08372459e-01,  3.21709625e-02,  5.33515327e-02,\n",
              "          -1.59795165e-01, -8.11125860e-02, -1.20032309e-02,\n",
              "           4.29726124e-01,  9.70903337e-02, -6.00864813e-02,\n",
              "           3.75584215e-02,  5.58782928e-02],\n",
              "         [-2.62930449e-02,  1.01349048e-01,  2.71942019e-01,\n",
              "           2.09343761e-01,  3.21388841e-01, -1.02254741e-01,\n",
              "           3.66898850e-02,  2.09949017e-02, -6.04890622e-02,\n",
              "           3.25812578e-01, -2.36350242e-02,  9.74250138e-02,\n",
              "          -3.49432509e-03, -1.29163429e-01,  1.58048660e-01,\n",
              "           9.56366658e-02, -4.31959033e-01,  3.28082532e-01,\n",
              "           3.51306573e-02, -6.12014011e-02,  2.15223819e-01,\n",
              "          -1.76527336e-01,  9.22026634e-02,  2.45687384e-02,\n",
              "          -1.40548587e-01, -4.53587860e-01, -9.22924131e-02,\n",
              "          -1.26142427e-01, -4.48163524e-02, -1.39643848e-01,\n",
              "          -8.38275552e-02,  2.74723858e-01]]],\n",
              "\n",
              "\n",
              "       [[[ 1.61150634e-01, -2.86575016e-02,  7.11555034e-02,\n",
              "          -2.07143471e-01,  5.29730059e-02,  9.41791460e-02,\n",
              "           2.55565137e-01,  7.62317255e-02, -5.32264113e-02,\n",
              "           1.34586126e-01, -9.10150483e-02, -1.65695250e-01,\n",
              "           2.42919326e-01, -2.00146437e-01,  1.74079668e-02,\n",
              "           7.50095099e-02,  1.55196548e-01, -2.58261949e-01,\n",
              "          -4.92655626e-03,  4.16197777e-01, -3.86153311e-02,\n",
              "           1.46446452e-01,  5.06453626e-02, -3.60621393e-01,\n",
              "           1.15070350e-01,  2.89169192e-01,  1.00484222e-01,\n",
              "          -1.09357260e-01, -7.28665618e-03,  4.20598984e-02,\n",
              "          -3.83202098e-02, -1.05859242e-01],\n",
              "         [ 6.39319569e-02, -3.89898079e-03,  4.97516058e-03,\n",
              "          -6.25403598e-02, -2.42724687e-01,  2.47927323e-01,\n",
              "          -1.59898847e-01,  4.75750826e-02,  1.23555377e-01,\n",
              "          -1.89252675e-01,  1.06582632e-02,  1.46695763e-01,\n",
              "          -2.47447804e-01, -2.17797235e-01, -5.32606617e-02,\n",
              "          -1.12605102e-01,  3.69681597e-01,  6.58257976e-02,\n",
              "          -9.96394455e-03,  4.14005488e-01,  5.81203122e-03,\n",
              "          -2.15347242e-02, -1.33059714e-02, -2.35672444e-01,\n",
              "           1.47929698e-01, -9.68965814e-02, -3.85954790e-02,\n",
              "           3.19409184e-02, -2.63723861e-02,  1.10327229e-01,\n",
              "           8.80503729e-02, -5.33311628e-02],\n",
              "         [-2.27521077e-01,  3.65342870e-02, -1.42364472e-01,\n",
              "          -1.69696268e-02,  1.87642574e-01,  1.41795829e-01,\n",
              "          -1.04727075e-01, -3.72307226e-02, -7.86822960e-02,\n",
              "           5.50233088e-02,  4.85404283e-02, -1.27198761e-02,\n",
              "           4.12139669e-02, -8.29386860e-02,  2.39679087e-02,\n",
              "           7.99235627e-02, -1.16620973e-01,  2.00591236e-01,\n",
              "          -1.69659853e-02,  1.10958219e-01,  6.90503558e-03,\n",
              "           2.02338211e-02, -3.25619727e-02, -2.45006755e-01,\n",
              "           3.24574076e-02, -2.77086586e-01,  9.08047485e-04,\n",
              "          -4.50409018e-03, -7.13055953e-02, -5.91237992e-02,\n",
              "          -1.74784988e-01,  8.49652290e-02]],\n",
              "\n",
              "        [[ 4.06208187e-02, -1.34799313e-02, -2.80702084e-01,\n",
              "          -4.87784952e-01, -2.33685091e-01,  1.71019688e-01,\n",
              "           2.52302170e-01, -5.00181317e-01, -8.71177763e-02,\n",
              "          -2.00075116e-02,  3.82897705e-02, -4.43741232e-01,\n",
              "           3.89617324e-01, -2.45864466e-01, -4.76957001e-02,\n",
              "           1.28133371e-01,  3.14029723e-01, -3.26389074e-01,\n",
              "           1.34655774e-01, -3.44568610e-01, -1.75894618e-01,\n",
              "           1.71287939e-01,  5.22936471e-02, -2.89032217e-02,\n",
              "           2.87097365e-01,  4.60938752e-01,  5.09101227e-02,\n",
              "          -4.64511588e-02, -2.71178037e-01, -6.56533614e-02,\n",
              "           5.03007583e-02, -1.58027932e-01],\n",
              "         [ 3.31376269e-02, -1.52911358e-02,  6.23353198e-02,\n",
              "          -1.69642091e-01, -1.95648819e-01,  3.87342900e-01,\n",
              "          -1.82435453e-01, -4.02341664e-01,  9.91701782e-02,\n",
              "          -2.99883604e-01, -1.95305813e-02,  3.51800621e-01,\n",
              "          -4.53105867e-01, -2.41416395e-01, -1.03277519e-01,\n",
              "          -7.88784996e-02,  4.33811039e-01,  7.86142126e-02,\n",
              "           4.23696041e-02, -3.05828214e-01, -1.67982697e-01,\n",
              "           1.13012172e-01, -1.87792554e-02,  5.92934899e-02,\n",
              "           3.61771584e-01, -4.57345620e-02, -3.06100622e-02,\n",
              "          -3.73655446e-02, -2.49070913e-01, -4.13494818e-02,\n",
              "           2.06367165e-01, -6.83298660e-03],\n",
              "         [-5.36594018e-02,  9.36179534e-02,  1.65238991e-01,\n",
              "           5.53405955e-02,  2.57401228e-01,  2.50335783e-01,\n",
              "          -6.45859763e-02, -1.18017726e-01, -7.41348714e-02,\n",
              "           2.81930178e-01,  6.65699691e-02,  5.19486517e-02,\n",
              "           4.24872227e-02, -1.16484366e-01,  1.29901171e-01,\n",
              "           7.61362910e-02, -2.09316850e-01,  2.89463013e-01,\n",
              "           1.01264454e-01, -1.38873145e-01, -1.44799188e-01,\n",
              "           6.74227998e-02, -1.34168856e-03,  3.55463102e-02,\n",
              "           2.26262435e-01, -5.01563668e-01, -4.28435691e-02,\n",
              "          -2.84834534e-01, -1.30743161e-01, -1.03075445e-01,\n",
              "          -9.36047584e-02,  1.46130726e-01]],\n",
              "\n",
              "        [[ 8.36313888e-02, -8.29154029e-02, -6.68296069e-02,\n",
              "          -3.35510015e-01,  8.31014588e-02, -1.64307915e-02,\n",
              "           2.61760324e-01, -3.64583619e-02,  1.95155665e-01,\n",
              "           3.21608484e-02,  8.42251927e-02, -2.32356116e-01,\n",
              "           2.78860003e-01, -2.21362099e-01, -5.41272573e-03,\n",
              "           4.74610850e-02,  1.59989282e-01, -2.72452205e-01,\n",
              "           9.41323563e-02, -1.26402825e-01, -1.48332641e-02,\n",
              "           9.81647000e-02,  5.77408485e-02, -6.89573810e-02,\n",
              "           2.52074748e-01,  4.18857992e-01,  8.16523656e-02,\n",
              "          -9.57819726e-03, -1.64164416e-02,  4.02872637e-02,\n",
              "          -2.40528770e-02, -1.29585251e-01],\n",
              "         [ 1.14373878e-01, -4.22538212e-03,  7.03023151e-02,\n",
              "          -1.17636502e-01, -1.59701794e-01,  1.23792440e-01,\n",
              "          -1.90807760e-01, -2.16314141e-02, -1.32634625e-01,\n",
              "          -1.28451735e-01, -7.51707479e-02,  2.57721603e-01,\n",
              "          -2.11595684e-01, -1.25269800e-01,  1.99442990e-02,\n",
              "          -4.90545258e-02,  2.44563296e-01,  9.58911777e-02,\n",
              "           5.96616194e-02, -1.61616415e-01, -1.09070748e-01,\n",
              "          -1.20989429e-02, -7.77932117e-03,  6.38317689e-02,\n",
              "           3.04483294e-01, -2.50075106e-02, -1.87520199e-02,\n",
              "          -7.08285794e-02,  3.56728099e-02,  7.37871975e-02,\n",
              "           1.14570551e-01, -6.01681806e-02],\n",
              "         [-1.94149122e-01,  6.73346743e-02,  6.54700622e-02,\n",
              "           5.41231073e-02,  9.72744748e-02,  8.48492980e-02,\n",
              "          -8.35040435e-02, -3.32129709e-02, -1.16422340e-01,\n",
              "           1.00631602e-01,  3.66899348e-03,  1.04717100e-02,\n",
              "          -3.40034589e-02, -2.21335012e-02, -2.93729398e-02,\n",
              "           3.90057638e-02, -1.44896954e-01,  2.96015412e-01,\n",
              "          -2.27687247e-02, -9.77180004e-02, -8.71916488e-02,\n",
              "          -7.66254216e-02, -3.22300009e-02,  1.45472540e-02,\n",
              "           1.66192874e-01, -3.18722308e-01, -8.46264958e-02,\n",
              "          -1.36219218e-01, -5.61135188e-02, -4.55730930e-02,\n",
              "          -8.21031332e-02,  1.48212612e-01]]]], dtype=float32)"
            ]
          },
          "metadata": {},
          "execution_count": 16
        }
      ]
    },
    {
      "cell_type": "code",
      "source": [
        "# plot filters\n",
        "\n",
        "fig1=plt.figure(figsize=(8, 4))\n",
        "\n",
        "columns = 8\n",
        "rows = 4\n",
        "n_filters = columns * rows\n",
        "\n",
        "for i in range(1, n_filters +1):\n",
        "    f = filters[:, :, :, i-1]\n",
        "    fig1 =plt.subplot(rows, columns, i)\n",
        "    fig1.title.set_text(i)\n",
        "    plt.tight_layout()\n",
        "    fig1.set_xticks([])  #Turn off axis\n",
        "    fig1.set_yticks([])\n",
        "    plt.imshow(f[0], cmap='Reds') #Show only the filters from 0th channel (R)\n",
        "plt.show() \n",
        "\n",
        "for i in range(1, n_filters +1):\n",
        "    f = filters[:, :, :, i-1]\n",
        "    fig1 =plt.subplot(rows, columns, i)\n",
        "    fig1.set_xticks([])  #Turn off axis\n",
        "    fig1.set_yticks([])\n",
        "    plt.imshow(f[1], cmap='Greens') #Show only the filters from 1st channel (G)\n",
        "plt.show() \n",
        "\n",
        "for i in range(1, n_filters +1):\n",
        "    f = filters[:, :, :, i-1]\n",
        "    fig1 =plt.subplot(rows, columns, i)\n",
        "    fig1.set_xticks([])  #Turn off axis\n",
        "    fig1.set_yticks([])\n",
        "    plt.imshow(f[2], cmap='Blues') #Show only the filters from 2nd channel (B)\n",
        "plt.show() \n",
        "\n",
        "   "
      ],
      "metadata": {
        "colab": {
          "base_uri": "https://localhost:8080/",
          "height": 730
        },
        "id": "urdaebk9-v6F",
        "outputId": "0c5f95f8-5374-4c3d-b79d-b3c2616df6c7"
      },
      "execution_count": 75,
      "outputs": [
        {
          "output_type": "display_data",
          "data": {
            "text/plain": [
              "<Figure size 576x288 with 32 Axes>"
            ],
            "image/png": "[encoded data removed]"
          },
          "metadata": {}
        },
        {
          "output_type": "display_data",
          "data": {
            "text/plain": [
              "<Figure size 432x288 with 32 Axes>"
            ],
            "image/png": "[encoded data removed]"
          },
          "metadata": {}
        },
        {
          "output_type": "display_data",
          "data": {
            "text/plain": [
              "<Figure size 432x288 with 32 Axes>"
            ],
            "image/png": "[encoded data removed]"
          },
          "metadata": {}
        }
      ]
    },
    {
      "cell_type": "code",
      "source": [
        "sns.heatmap(f[0], annot=True, cmap='Reds')"
      ],
      "metadata": {
        "colab": {
          "base_uri": "https://localhost:8080/",
          "height": 283
        },
        "id": "-7iFGl0tCGAI",
        "outputId": "63ec70ce-38a8-4ca6-c464-b933bad4688d"
      },
      "execution_count": 59,
      "outputs": [
        {
          "output_type": "execute_result",
          "data": {
            "text/plain": [
              "<matplotlib.axes._subplots.AxesSubplot at 0x7fa4b1623c10>"
            ]
          },
          "metadata": {},
          "execution_count": 59
        },
        {
          "output_type": "display_data",
          "data": {
            "text/plain": [
              "<Figure size 432x288 with 2 Axes>"
            ],
            "image/png": "[encoded data removed]"
          },
          "metadata": {
            "needs_background": "light"
          }
        }
      ]
    },
    {
      "cell_type": "code",
      "source": [
        "from PIL import Image\n",
        "import requests\n",
        "from io import BytesIO\n",
        "\n",
        "response = requests.get('https://i1.wp.com/indianaiproduction.com/wp-content/uploads/2019/06/NumPy-array.png?resize=640%2C307&ssl=1')\n",
        "img = Image.open(BytesIO(response.content))\n",
        "img"
      ],
      "metadata": {
        "colab": {
          "base_uri": "https://localhost:8080/",
          "height": 324
        },
        "id": "6hjhZ9hdEsxX",
        "outputId": "dabfa3fe-f517-4200-c370-512679f14a06"
      },
      "execution_count": null,
      "outputs": [
        {
          "output_type": "execute_result",
          "data": {
            "text/plain": [
              "<PIL.PngImagePlugin.PngImageFile image mode=P size=640x307 at 0x7FA4B7A428E0>"
            ],
            "image/png": "[encoded data removed]"
          },
          "metadata": {},
          "execution_count": 25
        }
      ]
    },
    {
      "cell_type": "code",
      "source": [],
      "metadata": {
        "id": "9Gbk8ThiFem4"
      },
      "execution_count": null,
      "outputs": []
    }
  ]
}